{
 "cells": [
  {
   "cell_type": "code",
   "execution_count": 2,
   "metadata": {},
   "outputs": [],
   "source": [
    "import cv2"
   ]
  },
  {
   "cell_type": "code",
   "execution_count": 4,
   "metadata": {},
   "outputs": [
    {
     "name": "stdout",
     "output_type": "stream",
     "text": [
      "(220, 230, 3)\n"
     ]
    }
   ],
   "source": [
    "path = \"C:\\\\Users\\\\Alireza\\\\Pictures\\\\youtube.jpg\"\n",
    "img = cv2.imread(path)\n",
    "print(img.shape)\n",
    "width = 512\n",
    "img = cv2.resize(img,(width,int(width*img.shape[1]/img.shape[0])))\n",
    "img_rgb = cv2.cvtColor(img, cv2.COLOR_BGR2RGB)\n",
    "cv2.imwrite(\"C:\\\\Users\\\\Alireza\\\\Pictures\\\\youtube.png\", img)\n",
    "cv2.imshow(\"Resized\", img)\n",
    "while True:\n",
    "    if cv2.waitKey(1) & 0xFF == ord('q'):\n",
    "        break\n",
    "cv2.imshow(\"Resized\", img_rgb)\n",
    "while True:\n",
    "    if cv2.waitKey(1) & 0xFF == ord('q'):\n",
    "        break\n",
    "cv2.destroyAllWindows()"
   ]
  },
  {
   "cell_type": "code",
   "execution_count": null,
   "metadata": {},
   "outputs": [],
   "source": [
    "cap = cv2.VideoCapture(0)\n",
    "while True:\n",
    "    ret, frame = cap.read()\n",
    "    if ret is None: break\n",
    "\n",
    "    cv2.imshow(\"Camera\", frame)\n",
    "    if cv2.waitKey(1) == ord('q'): break\n",
    "cap.release()    \n",
    "cv2.destroyAllWindows()    "
   ]
  }
 ],
 "metadata": {
  "kernelspec": {
   "display_name": "DL",
   "language": "python",
   "name": "python3"
  },
  "language_info": {
   "codemirror_mode": {
    "name": "ipython",
    "version": 3
   },
   "file_extension": ".py",
   "mimetype": "text/x-python",
   "name": "python",
   "nbconvert_exporter": "python",
   "pygments_lexer": "ipython3",
   "version": "3.12.3"
  }
 },
 "nbformat": 4,
 "nbformat_minor": 2
}
