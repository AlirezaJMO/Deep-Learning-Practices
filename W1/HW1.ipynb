{
 "cells": [
  {
   "cell_type": "markdown",
   "metadata": {},
   "source": [
    "# Numpy Library\n"
   ]
  },
  {
   "cell_type": "code",
   "execution_count": 9,
   "metadata": {},
   "outputs": [],
   "source": [
    "import numpy as np"
   ]
  },
  {
   "cell_type": "code",
   "execution_count": null,
   "metadata": {},
   "outputs": [
    {
     "name": "stdout",
     "output_type": "stream",
     "text": [
      "(512, 512)\n",
      "(512, 512, 1)\n",
      "(512, 512, 2)\n",
      "(1, 512, 512, 2)\n",
      "(3, 512, 512, 2)\n"
     ]
    },
    {
     "ename": "",
     "evalue": "",
     "output_type": "error",
     "traceback": [
      "\u001b[1;31mThe Kernel crashed while executing code in the current cell or a previous cell. \n",
      "\u001b[1;31mPlease review the code in the cell(s) to identify a possible cause of the failure. \n",
      "\u001b[1;31mClick <a href='https://aka.ms/vscodeJupyterKernelCrash'>here</a> for more info. \n",
      "\u001b[1;31mView Jupyter <a href='command:jupyter.viewOutput'>log</a> for further details."
     ]
    }
   ],
   "source": [
    "A = np.zeros((512,512))\n",
    "print(A.shape)\n",
    "y = np.expand_dims(A, axis=2)\n",
    "print(y.shape)\n",
    "# z = np.broadcast_to(y,(512,512,2)).copy() # or\n",
    "z = np.repeat(y, 2 , axis=2)\n",
    "\n",
    "print(z.shape)\n",
    "\n",
    "z[:,:,1]=np.ones((512, 512))\n",
    "\n",
    "x = np.expand_dims(z, axis=0)\n",
    "print(x.shape)\n",
    "B = np.broadcast_to(x,(3,512,512,2)).copy() # or\n",
    "# B = np.repeat(x, 3 , axis=0)\n",
    "print(B.shape)\n",
    "\n",
    "C = np.random.uniform(0,255,(30,30))\n",
    "# print(C)\n",
    "D = (C - np.min(C)) / (np.max(C) - np.min(C))\n",
    "# print(D)\n"
   ]
  },
  {
   "cell_type": "markdown",
   "metadata": {},
   "source": [
    "# Convert to Gray"
   ]
  },
  {
   "cell_type": "code",
   "execution_count": 7,
   "metadata": {},
   "outputs": [],
   "source": [
    "import cv2\n",
    "import numpy as np"
   ]
  },
  {
   "cell_type": "code",
   "execution_count": null,
   "metadata": {},
   "outputs": [
    {
     "name": "stdout",
     "output_type": "stream",
     "text": [
      "hight : 220 width : 230 channel : 3\n"
     ]
    }
   ],
   "source": [
    "path = \"C:\\\\Users\\\\Alireza\\\\Pictures\\\\youtube.jpg\"\n",
    "img = cv2.imread(path)  # cv2 reads the BGR, reads reverse ordered\n",
    "hight, width , channel = img.shape  # reads reverse ordered\n",
    "print(\"hight : {}\".format(hight), \"width : {}\".format(width) , \"channel : {}\".format((channel)))\n",
    "b, g, r = [img[:, :, i] for i in range(3)] # or b, g, r = img[:, :, 0], img[:, :, 1], img[:, :, 2]\n",
    "imgNew = (0.114*b + 0.587*g + 0.299*r).astype(np.uint8)\n",
    "cv2.imshow(\"Original\", img)\n",
    "cv2.waitKey(0) == ord('q')\n",
    "cv2.imshow(\"Gray\", imgNew)\n",
    "cv2.waitKey(0) == ord('q')\n",
    "cv2.destroyAllWindows()\n"
   ]
  },
  {
   "cell_type": "markdown",
   "metadata": {},
   "source": [
    "# Mnist Cassification by KNN"
   ]
  },
  {
   "cell_type": "code",
   "execution_count": 11,
   "metadata": {},
   "outputs": [],
   "source": [
    "import pandas as pd\n",
    "from sklearn.metrics import accuracy_score\n",
    "from sklearn.neighbors import KNeighborsClassifier"
   ]
  },
  {
   "cell_type": "code",
   "execution_count": 19,
   "metadata": {},
   "outputs": [
    {
     "name": "stderr",
     "output_type": "stream",
     "text": [
      "c:\\Users\\Alireza\\Documents\\Python\\DL\\Lib\\site-packages\\joblib\\externals\\loky\\backend\\context.py:136: UserWarning: Could not find the number of physical cores for the following reason:\n",
      "[WinError 2] The system cannot find the file specified\n",
      "Returning the number of logical cores instead. You can silence this warning by setting LOKY_MAX_CPU_COUNT to the number of cores you want to use.\n",
      "  warnings.warn(\n",
      "  File \"c:\\Users\\Alireza\\Documents\\Python\\DL\\Lib\\site-packages\\joblib\\externals\\loky\\backend\\context.py\", line 257, in _count_physical_cores\n",
      "    cpu_info = subprocess.run(\n",
      "               ^^^^^^^^^^^^^^^\n",
      "  File \"C:\\Users\\Alireza\\AppData\\Local\\Programs\\Python\\Python312\\Lib\\subprocess.py\", line 548, in run\n",
      "    with Popen(*popenargs, **kwargs) as process:\n",
      "         ^^^^^^^^^^^^^^^^^^^^^^^^^^^\n",
      "  File \"C:\\Users\\Alireza\\AppData\\Local\\Programs\\Python\\Python312\\Lib\\subprocess.py\", line 1026, in __init__\n",
      "    self._execute_child(args, executable, preexec_fn, close_fds,\n",
      "  File \"C:\\Users\\Alireza\\AppData\\Local\\Programs\\Python\\Python312\\Lib\\subprocess.py\", line 1538, in _execute_child\n",
      "    hp, ht, pid, tid = _winapi.CreateProcess(executable, args,\n",
      "                       ^^^^^^^^^^^^^^^^^^^^^^^^^^^^^^^^^^^^^^^\n"
     ]
    },
    {
     "name": "stdout",
     "output_type": "stream",
     "text": [
      "0.9704970497049705\n"
     ]
    }
   ],
   "source": [
    "train_df = pd.read_csv(r\"D:\\Cources\\Python\\Deep Learning\\Hamed Ghasemi\\week1\\tamrin\\HW1\\mnist Dataset\\mnist_train.csv\")\n",
    "test_df = pd.read_csv(r\"D:\\Cources\\Python\\Deep Learning\\Hamed Ghasemi\\week1\\tamrin\\HW1\\mnist Dataset\\mnist_test.csv\")\n",
    "\n",
    "y_test = test_df.iloc[:,0].values\n",
    "x_test = test_df.iloc[:,1:].values\n",
    "\n",
    "y_train = train_df.iloc[:,0].values\n",
    "x_train = train_df.iloc[:,1:].values\n",
    "\n",
    "x_test = x_test/255.0\n",
    "x_train = x_train/255.0\n",
    "\n",
    "model = KNeighborsClassifier(n_neighbors=3)\n",
    "model.fit(x_train, y_train)\n",
    "y_pred = model.predict(x_test)\n",
    "accuracy = accuracy_score(y_test, y_pred)\n",
    "print(accuracy)\n",
    "\n"
   ]
  }
 ],
 "metadata": {
  "kernelspec": {
   "display_name": "DL",
   "language": "python",
   "name": "python3"
  },
  "language_info": {
   "codemirror_mode": {
    "name": "ipython",
    "version": 3
   },
   "file_extension": ".py",
   "mimetype": "text/x-python",
   "name": "python",
   "nbconvert_exporter": "python",
   "pygments_lexer": "ipython3",
   "version": "3.12.3"
  }
 },
 "nbformat": 4,
 "nbformat_minor": 2
}
