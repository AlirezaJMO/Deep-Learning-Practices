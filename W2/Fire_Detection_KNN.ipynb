{
 "cells": [
  {
   "cell_type": "markdown",
   "metadata": {},
   "source": [
    "# KNN\n"
   ]
  },
  {
   "cell_type": "code",
   "execution_count": 1,
   "metadata": {},
   "outputs": [],
   "source": [
    "import numpy as np\n",
    "import cv2\n",
    "import glob\n",
    "# import os\n",
    "from sklearn.model_selection import train_test_split\n",
    "from sklearn.neighbors import KNeighborsClassifier\n",
    "from joblib import dump\n",
    "# os.environ[\"LOKY_MAX_CPU_COUNT\"] = \"14\""
   ]
  },
  {
   "cell_type": "markdown",
   "metadata": {},
   "source": [
    "## Making a KNN model using SciKit-Learn and saving it"
   ]
  },
  {
   "cell_type": "code",
   "execution_count": 2,
   "metadata": {},
   "outputs": [
    {
     "name": "stdout",
     "output_type": "stream",
     "text": [
      "[Info] 0/1000 processed\n",
      "[Info] 100/1000 processed\n",
      "[Info] 200/1000 processed\n",
      "[Info] 300/1000 processed\n",
      "[Info] 400/1000 processed\n",
      "[Info] 500/1000 processed\n",
      "[Info] 600/1000 processed\n",
      "[Info] 700/1000 processed\n",
      "[Info] 800/1000 processed\n",
      "[Info] 900/1000 processed\n",
      "Accuracy: 90.00\n"
     ]
    },
    {
     "name": "stderr",
     "output_type": "stream",
     "text": [
      "c:\\Users\\Alireza\\Documents\\Python\\DL\\Lib\\site-packages\\joblib\\externals\\loky\\backend\\context.py:136: UserWarning: Could not find the number of physical cores for the following reason:\n",
      "[WinError 2] The system cannot find the file specified\n",
      "Returning the number of logical cores instead. You can silence this warning by setting LOKY_MAX_CPU_COUNT to the number of cores you want to use.\n",
      "  warnings.warn(\n",
      "  File \"c:\\Users\\Alireza\\Documents\\Python\\DL\\Lib\\site-packages\\joblib\\externals\\loky\\backend\\context.py\", line 257, in _count_physical_cores\n",
      "    cpu_info = subprocess.run(\n",
      "               ^^^^^^^^^^^^^^^\n",
      "  File \"C:\\Users\\Alireza\\AppData\\Local\\Programs\\Python\\Python312\\Lib\\subprocess.py\", line 548, in run\n",
      "    with Popen(*popenargs, **kwargs) as process:\n",
      "         ^^^^^^^^^^^^^^^^^^^^^^^^^^^\n",
      "  File \"C:\\Users\\Alireza\\AppData\\Local\\Programs\\Python\\Python312\\Lib\\subprocess.py\", line 1026, in __init__\n",
      "    self._execute_child(args, executable, preexec_fn, close_fds,\n",
      "  File \"C:\\Users\\Alireza\\AppData\\Local\\Programs\\Python\\Python312\\Lib\\subprocess.py\", line 1538, in _execute_child\n",
      "    hp, ht, pid, tid = _winapi.CreateProcess(executable, args,\n",
      "                       ^^^^^^^^^^^^^^^^^^^^^^^^^^^^^^^^^^^^^^^\n"
     ]
    },
    {
     "data": {
      "text/plain": [
       "['KNN_Classifier.joblib']"
      ]
     },
     "execution_count": 2,
     "metadata": {},
     "output_type": "execute_result"
    }
   ],
   "source": [
    "feature_vectors = []\n",
    "all_labels = []\n",
    "\n",
    "for i, address in enumerate(glob.glob(\"fire_dataset/*/*\")):\n",
    "\n",
    "    img = cv2.imread(address)\n",
    "    img = cv2.resize(img, (32, 32))\n",
    "    img = img/255\n",
    "    img = img.flatten()\n",
    "\n",
    "    feature_vectors.append(img)\n",
    "\n",
    "    label = address.split(\"\\\\\")[1]\n",
    "    all_labels.append(label)\n",
    "\n",
    "    if i%100 ==0:\n",
    "        print(f\"[Info] {i}/1000 processed\")\n",
    "\n",
    "feature_vectors =np.array(feature_vectors)\n",
    "\n",
    "X_train, X_test, y_train, y_test = train_test_split(feature_vectors, all_labels, test_size=0.2, random_state=42)\n",
    "\n",
    "KNN = KNeighborsClassifier(n_neighbors=11)\n",
    "KNN.fit(X_train, y_train) # Has a internal Encoder, no need for encoding non-numerical labels\n",
    "\n",
    "Accuracy = KNN.score(X_test, y_test)\n",
    "print(\"Accuracy: {:.2f}\".format(Accuracy*100))\n",
    "\n",
    "dump(KNN, \"KNN_Classifier.joblib\")\n"
   ]
  },
  {
   "cell_type": "markdown",
   "metadata": {},
   "source": [
    "## Importing the saved model and using it for predicting new images"
   ]
  },
  {
   "cell_type": "code",
   "execution_count": 26,
   "metadata": {},
   "outputs": [
    {
     "name": "stdout",
     "output_type": "stream",
     "text": [
      "non_fire_images\n"
     ]
    }
   ],
   "source": [
    "from joblib import load\n",
    "\n",
    "clf = load(\"KNN_Classifier.joblib\")\n",
    "\n",
    "image = cv2.imread(\"nature3.jpg\")\n",
    "image = cv2.resize(image, (32, 32))\n",
    "image = image/255\n",
    "image = image.flatten()\n",
    "image = np.array([image]) # to make the feature vector vertical\n",
    "pred = clf.predict(image)\n",
    "print(pred[0])"
   ]
  }
 ],
 "metadata": {
  "kernelspec": {
   "display_name": "DL",
   "language": "python",
   "name": "python3"
  },
  "language_info": {
   "codemirror_mode": {
    "name": "ipython",
    "version": 3
   },
   "file_extension": ".py",
   "mimetype": "text/x-python",
   "name": "python",
   "nbconvert_exporter": "python",
   "pygments_lexer": "ipython3",
   "version": "3.12.3"
  }
 },
 "nbformat": 4,
 "nbformat_minor": 2
}
